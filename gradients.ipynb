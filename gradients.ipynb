{
 "cells": [
  {
   "cell_type": "code",
   "id": "initial_id",
   "metadata": {
    "collapsed": true,
    "ExecuteTime": {
     "end_time": "2024-10-02T20:06:24.517789Z",
     "start_time": "2024-10-02T20:06:23.312851Z"
    }
   },
   "source": [
    "import torch\n",
    "import torch.nn as nn\n",
    "from torchvision import models\n",
    "\n",
    "from Train.train_one_epoch import eval_epoch_save"
   ],
   "outputs": [],
   "execution_count": 1
  },
  {
   "metadata": {
    "ExecuteTime": {
     "end_time": "2024-10-02T20:06:26.270149Z",
     "start_time": "2024-10-02T20:06:26.138331Z"
    }
   },
   "cell_type": "code",
   "source": [
    "model = models.densenet121()\n",
    "num_ftrs = model.classifier.in_features\n",
    "model.classifier = nn.Sequential(\n",
    "    nn.Linear(num_ftrs, 2))"
   ],
   "id": "b223fca82afa7b44",
   "outputs": [],
   "execution_count": 2
  },
  {
   "metadata": {
    "ExecuteTime": {
     "end_time": "2024-10-02T20:06:27.885306Z",
     "start_time": "2024-10-02T20:06:27.881929Z"
    }
   },
   "cell_type": "code",
   "source": "names = ['features.denseblock1', 'features.denseblock2', 'features.denseblock3', 'features.denseblock4', 'classifier']",
   "id": "4bbf7600899b0caf",
   "outputs": [],
   "execution_count": 3
  },
  {
   "metadata": {
    "ExecuteTime": {
     "end_time": "2024-10-02T20:06:31.782364Z",
     "start_time": "2024-10-02T20:06:30.503364Z"
    }
   },
   "cell_type": "code",
   "source": [
    "loaded = torch.load('/home/zoe/GhassanGT Dropbox/Zoe Fowler/Zoe/InSync/PhDResearch/Code/Federated-SuperResolution/Saved/pneumonia/classification/model.pth')\n",
    "model.load_state_dict(loaded)"
   ],
   "id": "8b23426c4f2bcab0",
   "outputs": [
    {
     "data": {
      "text/plain": [
       "<All keys matched successfully>"
      ]
     },
     "execution_count": 4,
     "metadata": {},
     "output_type": "execute_result"
    }
   ],
   "execution_count": 4
  },
  {
   "metadata": {
    "ExecuteTime": {
     "end_time": "2024-10-02T20:06:34.392746Z",
     "start_time": "2024-10-02T20:06:34.366532Z"
    }
   },
   "cell_type": "code",
   "source": "model = model.cuda()\n",
   "id": "d29fb5de6a0a3487",
   "outputs": [],
   "execution_count": 5
  },
  {
   "metadata": {},
   "cell_type": "code",
   "outputs": [],
   "execution_count": null,
   "source": [
    "def get_gradients(data_loader, criterion, device='cuda'):\n",
    "    \n",
    "    loss = criterion()\n",
    "\n",
    "    # backward pass (compute gradients of parameters w.r.t. loss)\n",
    "    loss.backward()\n",
    "\n",
    "    layer_grads = {}\n",
    "    for pref in names:\n",
    "        layer_grads[pref] = []\n",
    "\n",
    "    for name, param in sam.named_parameters():\n",
    "        for pref in names:\n",
    "            if name.startswith(pref) and param.grad is not None:\n",
    "                layer_grads[pref].append(np.linalg.norm(param.grad.detach().cpu().numpy()))\n",
    "\n",
    "    for pref in names:\n",
    "        if len(layer_grads[pref]) > 0:\n",
    "            layer_grads[pref] = np.mean(layer_grads[pref])\n",
    "\n",
    "    zero_out_grads()\n",
    "\n",
    "    return layer_grads"
   ],
   "id": "cd2636595b3e8724"
  },
  {
   "metadata": {},
   "cell_type": "code",
   "outputs": [],
   "execution_count": null,
   "source": [
    "from Models.SRResNet import SRResNet\n",
    "from torch.utils.data import DataLoader\n",
    "from Data.medmnist_loader import MedMNISTDataset\n",
    "\n",
    "# Try scale x 4 on model for x 8 and x 4\n",
    "# load data and create test loader\n",
    "first = 56\n",
    "scale_first = int(224 / 56)\n",
    "test_dataset1 = MedMNISTDataset(mode='test', low_size=first)\n",
    "test_loader1 = DataLoader(test_dataset1, batch_size=1, shuffle=False)\n",
    "# establish models\n",
    "model1 = SRResNet(scaling_factor=4)\n",
    "model2 = SRResNet(scaling_factor=8)\n",
    "device = 'cuda'\n",
    "wts1 = torch.load('/home/zoe/GhassanGT Dropbox/Zoe Fowler/Zoe/InSync/PhDResearch/Code/Federated-SuperResolution/Saved/pneumonia/best_model_4_resnet.pth')\n",
    "wts2 = torch.load('/home/zoe/GhassanGT Dropbox/Zoe Fowler/Zoe/InSync/PhDResearch/Code/Federated-SuperResolution/Saved/pneumonia/best_model_8_resnet.pth')\n",
    "model1.load_state_dict(wts1, strict=False)\n",
    "model2.load_state_dict(wts2, strict=False)\n",
    "model1 = model1.to(device)\n",
    "model2 = model2.to(device)\n",
    "criterion = nn.L1Loss().to(device)\n",
    "\n",
    "print('Evaluating in distribution')\n",
    "_, acc, outputs_indistrib = eval_epoch_save(data_loader=test_loader1, model=model1, criterion=criterion, device=device)\n",
    "print('test psnr: ', acc)\n",
    "# form new dataset and loader of outputs\n",
    "\n",
    "print('Evaluating out of distribution')\n",
    "_, acc, outputs_outdistrib = eval_epoch_save(data_loader=test_loader1, model=model2, criterion=criterion, device=device)\n",
    "print('test psnr: ', acc)"
   ],
   "id": "a23685d9ed182bf6"
  }
 ],
 "metadata": {
  "kernelspec": {
   "display_name": "Python 3",
   "language": "python",
   "name": "python3"
  },
  "language_info": {
   "codemirror_mode": {
    "name": "ipython",
    "version": 2
   },
   "file_extension": ".py",
   "mimetype": "text/x-python",
   "name": "python",
   "nbconvert_exporter": "python",
   "pygments_lexer": "ipython2",
   "version": "2.7.6"
  }
 },
 "nbformat": 4,
 "nbformat_minor": 5
}
